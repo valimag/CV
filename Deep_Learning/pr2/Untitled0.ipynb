{
  "nbformat": 4,
  "nbformat_minor": 0,
  "metadata": {
    "colab": {
      "name": "Untitled0.ipynb",
      "provenance": [],
      "collapsed_sections": []
    },
    "kernelspec": {
      "name": "python3",
      "display_name": "Python 3"
    }
  },
  "cells": [
    {
      "cell_type": "code",
      "metadata": {
        "colab": {
          "base_uri": "https://localhost:8080/"
        },
        "id": "Ddm3RaQAq_3-",
        "outputId": "657cd9a7-627a-4c01-f87b-f485710d1568"
      },
      "source": [
        "from keras.datasets import reuters\n",
        "(train_data, train_labels), (test_data, test_labels) = reuters.load_data(\n",
        "    num_words=10000)\n"
      ],
      "execution_count": null,
      "outputs": [
        {
          "output_type": "stream",
          "text": [
            "Downloading data from https://storage.googleapis.com/tensorflow/tf-keras-datasets/reuters.npz\n",
            "2113536/2110848 [==============================] - 0s 0us/step\n"
          ],
          "name": "stdout"
        },
        {
          "output_type": "stream",
          "text": [
            "/usr/local/lib/python3.6/dist-packages/tensorflow/python/keras/datasets/reuters.py:148: VisibleDeprecationWarning: Creating an ndarray from ragged nested sequences (which is a list-or-tuple of lists-or-tuples-or ndarrays with different lengths or shapes) is deprecated. If you meant to do this, you must specify 'dtype=object' when creating the ndarray\n",
            "  x_train, y_train = np.array(xs[:idx]), np.array(labels[:idx])\n",
            "/usr/local/lib/python3.6/dist-packages/tensorflow/python/keras/datasets/reuters.py:149: VisibleDeprecationWarning: Creating an ndarray from ragged nested sequences (which is a list-or-tuple of lists-or-tuples-or ndarrays with different lengths or shapes) is deprecated. If you meant to do this, you must specify 'dtype=object' when creating the ndarray\n",
            "  x_test, y_test = np.array(xs[idx:]), np.array(labels[idx:])\n"
          ],
          "name": "stderr"
        }
      ]
    },
    {
      "cell_type": "code",
      "metadata": {
        "id": "Q6ffjdazr_qf"
      },
      "source": [
        "len(train_data)\n",
        "len(test_data)"
      ],
      "execution_count": null,
      "outputs": []
    },
    {
      "cell_type": "code",
      "metadata": {
        "id": "cyU-FFVIsLLq"
      },
      "source": [
        "train_data[10]"
      ],
      "execution_count": null,
      "outputs": []
    },
    {
      "cell_type": "markdown",
      "metadata": {
        "id": "Um39vE-htcft"
      },
      "source": [
        "Декодирование новостей обратно в текст"
      ]
    },
    {
      "cell_type": "code",
      "metadata": {
        "id": "yrub2EAbsTZ0"
      },
      "source": [
        "word_index = reuters.get_word_index()\n",
        "reverse_word_index = dict([(value,key)for (key, value) in word_index.items()])\n",
        "decoded_newswire = ''.join([reverse_word_index.get(i-3,'?') for i in \n",
        "                            train_data[0]])\n",
        "decoded_newswire"
      ],
      "execution_count": null,
      "outputs": []
    },
    {
      "cell_type": "code",
      "metadata": {
        "id": "34B_Ejzqtnur"
      },
      "source": [
        "import numpy as np\n",
        "\n",
        "def vectorize_sequences(sequences, dimension=10000):\n",
        "    # Create an all-zero matrix of shape (len(sequences), dimension)\n",
        "    results = np.zeros((len(sequences), dimension))\n",
        "    for i, sequence in enumerate(sequences):\n",
        "        results[i, sequence] = 1.  # set specific indices of results[i] to 1s\n",
        "    return results\n",
        "\n",
        "# Our vectorized training data\n",
        "x_train = vectorize_sequences(train_data)\n",
        "# Our vectorized test data\n",
        "x_test = vectorize_sequences(test_data)\n",
        "\n",
        "def to_one_hot(labels, dimension=46):\n",
        "  results = np.zeros((len(labels), dimension))\n",
        "  for i, label in enumerate(labels):\n",
        "    results[i, label] = 1.\n",
        "    return results\n",
        "one_hot_train_labels = to_one_hot(train_labels)\n",
        "one_hot_test_labels = to_one_hot(test_labels) \n"
      ],
      "execution_count": null,
      "outputs": []
    },
    {
      "cell_type": "code",
      "metadata": {
        "id": "ORRg5tCEubsU"
      },
      "source": [
        "from keras.utils.np_utils import to_categorical\n",
        "\n",
        "one_hot_train_labels = to_categorical(train_labels)\n",
        "one_hot_test_labels = to_categorical(test_labels)"
      ],
      "execution_count": null,
      "outputs": []
    },
    {
      "cell_type": "code",
      "metadata": {
        "id": "lfwirCbYv5JE"
      },
      "source": [
        "from keras import models\n",
        "from keras import layers\n",
        "\n",
        "model = models.Sequential()\n",
        "model.add(layers.Dense(64, activation='relu', input_shape=(10000,)))\n",
        "model.add(layers.Dense(64, activation='relu'))\n",
        "model.add(layers.Dense(46, activation='softmax'))\n"
      ],
      "execution_count": null,
      "outputs": []
    },
    {
      "cell_type": "code",
      "metadata": {
        "id": "dNOqo9z2uy2x"
      },
      "source": [
        "model.compile(optimizer='rmsprop',\n",
        "              loss='categorical_crossentropy',\n",
        "              metrics=['accuracy'])\n"
      ],
      "execution_count": null,
      "outputs": []
    },
    {
      "cell_type": "code",
      "metadata": {
        "id": "z0wSSI71xmA0"
      },
      "source": [
        "x_val = x_train[:1000]\n",
        "partial_x_train = x_train[1000:]\n",
        "\n",
        "y_val = one_hot_train_labels[:1000]\n",
        "partial_y_train= one_hot_train_labels[1000:]\n"
      ],
      "execution_count": null,
      "outputs": []
    },
    {
      "cell_type": "code",
      "metadata": {
        "colab": {
          "base_uri": "https://localhost:8080/"
        },
        "id": "rqVg1bmkyGoj",
        "outputId": "55395a58-ba8e-4221-9628-4b5e4b488a76"
      },
      "source": [
        "history = model.fit(partial_x_train,\n",
        "                    partial_y_train,\n",
        "                    epochs=20,\n",
        "                    batch_size=512,\n",
        "                    validation_data=(x_val, y_val))\n"
      ],
      "execution_count": null,
      "outputs": [
        {
          "output_type": "stream",
          "text": [
            "Epoch 1/20\n",
            "16/16 [==============================] - 2s 53ms/step - loss: 3.1427 - accuracy: 0.4393 - val_loss: 1.7656 - val_accuracy: 0.6290\n",
            "Epoch 2/20\n",
            "16/16 [==============================] - 1s 38ms/step - loss: 1.5642 - accuracy: 0.6912 - val_loss: 1.2988 - val_accuracy: 0.7100\n",
            "Epoch 3/20\n",
            "16/16 [==============================] - 1s 39ms/step - loss: 1.1261 - accuracy: 0.7621 - val_loss: 1.1174 - val_accuracy: 0.7580\n",
            "Epoch 4/20\n",
            "16/16 [==============================] - 1s 39ms/step - loss: 0.8723 - accuracy: 0.8182 - val_loss: 1.0254 - val_accuracy: 0.7830\n",
            "Epoch 5/20\n",
            "16/16 [==============================] - 1s 38ms/step - loss: 0.7023 - accuracy: 0.8498 - val_loss: 0.9614 - val_accuracy: 0.8010\n",
            "Epoch 6/20\n",
            "16/16 [==============================] - 1s 38ms/step - loss: 0.5636 - accuracy: 0.8829 - val_loss: 0.9194 - val_accuracy: 0.8110\n",
            "Epoch 7/20\n",
            "16/16 [==============================] - 1s 37ms/step - loss: 0.4642 - accuracy: 0.9102 - val_loss: 0.8886 - val_accuracy: 0.8170\n",
            "Epoch 8/20\n",
            "16/16 [==============================] - 1s 39ms/step - loss: 0.3581 - accuracy: 0.9283 - val_loss: 0.8847 - val_accuracy: 0.8170\n",
            "Epoch 9/20\n",
            "16/16 [==============================] - 1s 44ms/step - loss: 0.2963 - accuracy: 0.9376 - val_loss: 0.8728 - val_accuracy: 0.8220\n",
            "Epoch 10/20\n",
            "16/16 [==============================] - 1s 38ms/step - loss: 0.2525 - accuracy: 0.9438 - val_loss: 0.9338 - val_accuracy: 0.8170\n",
            "Epoch 11/20\n",
            "16/16 [==============================] - 1s 40ms/step - loss: 0.2211 - accuracy: 0.9498 - val_loss: 0.9045 - val_accuracy: 0.8180\n",
            "Epoch 12/20\n",
            "16/16 [==============================] - 1s 38ms/step - loss: 0.1791 - accuracy: 0.9544 - val_loss: 0.8977 - val_accuracy: 0.8200\n",
            "Epoch 13/20\n",
            "16/16 [==============================] - 1s 38ms/step - loss: 0.1665 - accuracy: 0.9562 - val_loss: 0.9239 - val_accuracy: 0.8050\n",
            "Epoch 14/20\n",
            "16/16 [==============================] - 1s 38ms/step - loss: 0.1620 - accuracy: 0.9560 - val_loss: 0.9213 - val_accuracy: 0.8190\n",
            "Epoch 15/20\n",
            "16/16 [==============================] - 1s 38ms/step - loss: 0.1339 - accuracy: 0.9594 - val_loss: 0.9637 - val_accuracy: 0.8100\n",
            "Epoch 16/20\n",
            "16/16 [==============================] - 1s 37ms/step - loss: 0.1204 - accuracy: 0.9611 - val_loss: 0.9698 - val_accuracy: 0.8100\n",
            "Epoch 17/20\n",
            "16/16 [==============================] - 1s 38ms/step - loss: 0.1184 - accuracy: 0.9576 - val_loss: 0.9819 - val_accuracy: 0.8170\n",
            "Epoch 18/20\n",
            "16/16 [==============================] - 1s 38ms/step - loss: 0.1096 - accuracy: 0.9637 - val_loss: 1.0352 - val_accuracy: 0.8050\n",
            "Epoch 19/20\n",
            "16/16 [==============================] - 1s 40ms/step - loss: 0.1138 - accuracy: 0.9577 - val_loss: 1.0630 - val_accuracy: 0.7930\n",
            "Epoch 20/20\n",
            "16/16 [==============================] - 1s 36ms/step - loss: 0.1014 - accuracy: 0.9624 - val_loss: 1.0553 - val_accuracy: 0.8070\n"
          ],
          "name": "stdout"
        }
      ]
    },
    {
      "cell_type": "code",
      "metadata": {
        "colab": {
          "base_uri": "https://localhost:8080/",
          "height": 295
        },
        "id": "HTTxR69AyezU",
        "outputId": "9f04541d-b8b0-4629-9984-99c96ff6730f"
      },
      "source": [
        "import matplotlib.pyplot as plt\n",
        "loss = history.history['loss']\n",
        "val_loss = history.history['val_loss']\n",
        "\n",
        "epochs = range(1, len(loss)+1)\n",
        "\n",
        "plt.plot(epochs, loss, 'bo', label='Train loss')\n",
        "plt.plot(epochs, val_loss, 'b', label='Validation loss')\n",
        "plt.title('Training and val loss')\n",
        "plt.xlabel('Epochs')\n",
        "plt.ylabel('Loss')\n",
        "plt.legend()\n",
        "\n",
        "plt.show()"
      ],
      "execution_count": null,
      "outputs": [
        {
          "output_type": "display_data",
          "data": {
            "image/png": "[encoded data removed]",
            "text/plain": [
              "<Figure size 432x288 with 1 Axes>"
            ]
          },
          "metadata": {
            "tags": [],
            "needs_background": "light"
          }
        }
      ]
    },
    {
      "cell_type": "code",
      "metadata": {
        "colab": {
          "base_uri": "https://localhost:8080/",
          "height": 295
        },
        "id": "4pFBG0EUzuC2",
        "outputId": "57b702c4-8604-4c8d-8974-476b0842fab8"
      },
      "source": [
        "plt.clf()\n",
        "\n",
        "acc = history.history['accuracy']\n",
        "val_acc = history.history['val_accuracy']\n",
        "\n",
        "plt.plot(epochs, acc, 'bo', label='Training acc')\n",
        "plt.plot(epochs, val_acc, 'b', label='Val acc')\n",
        "plt.title('Training and val acc')\n",
        "plt.xlabel('Epochs')\n",
        "plt.ylabel('Accuracy')\n",
        "plt.legend\n",
        "\n",
        "plt.show()"
      ],
      "execution_count": null,
      "outputs": [
        {
          "output_type": "display_data",
          "data": {
            "image/png": "[encoded data removed]",
            "text/plain": [
              "<Figure size 432x288 with 1 Axes>"
            ]
          },
          "metadata": {
            "tags": [],
            "needs_background": "light"
          }
        }
      ]
    },
    {
      "cell_type": "code",
      "metadata": {
        "colab": {
          "base_uri": "https://localhost:8080/"
        },
        "id": "jXRPvL9h0_bm",
        "outputId": "8cc980f6-7de0-44f9-93c4-587e94e09da5"
      },
      "source": [
        "model = models.Sequential()\n",
        "model.add(layers.Dense(64, activation='relu', input_shape=(10000,)))\n",
        "model.add(layers.Dense(64, activation='relu'))\n",
        "model.add(layers.Dense(46, activation='softmax'))\n",
        "\n",
        "model.compile(optimizer='rmsprop',\n",
        "              loss='categorical_crossentropy',\n",
        "              metrics=['accuracy'])\n",
        "model.fit(partial_x_train,\n",
        "          partial_y_train,\n",
        "          epochs=9,\n",
        "          validation_data=(x_val, y_val))\n",
        "\n",
        "results = model.evaluate(x_test, one_hot_test_labels)\n",
        "results"
      ],
      "execution_count": null,
      "outputs": [
        {
          "output_type": "stream",
          "text": [
            "Epoch 1/9\n",
            "250/250 [==============================] - 3s 9ms/step - loss: 2.0133 - accuracy: 0.5928 - val_loss: 1.0885 - val_accuracy: 0.7620\n",
            "Epoch 2/9\n",
            "250/250 [==============================] - 2s 8ms/step - loss: 0.7828 - accuracy: 0.8303 - val_loss: 0.9097 - val_accuracy: 0.8050\n",
            "Epoch 3/9\n",
            "250/250 [==============================] - 2s 8ms/step - loss: 0.4690 - accuracy: 0.9002 - val_loss: 0.8811 - val_accuracy: 0.8110\n",
            "Epoch 4/9\n",
            "250/250 [==============================] - 2s 8ms/step - loss: 0.3058 - accuracy: 0.9324 - val_loss: 0.9362 - val_accuracy: 0.8120\n",
            "Epoch 5/9\n",
            "250/250 [==============================] - 2s 8ms/step - loss: 0.2447 - accuracy: 0.9436 - val_loss: 0.9767 - val_accuracy: 0.8210\n",
            "Epoch 6/9\n",
            "250/250 [==============================] - 2s 8ms/step - loss: 0.1845 - accuracy: 0.9542 - val_loss: 1.1305 - val_accuracy: 0.8020\n",
            "Epoch 7/9\n",
            "250/250 [==============================] - 2s 8ms/step - loss: 0.1676 - accuracy: 0.9575 - val_loss: 1.0835 - val_accuracy: 0.8100\n",
            "Epoch 8/9\n",
            "250/250 [==============================] - 2s 10ms/step - loss: 0.1521 - accuracy: 0.9599 - val_loss: 1.2593 - val_accuracy: 0.8000\n",
            "Epoch 9/9\n",
            "250/250 [==============================] - 3s 12ms/step - loss: 0.1505 - accuracy: 0.9585 - val_loss: 1.3686 - val_accuracy: 0.7970\n",
            "71/71 [==============================] - 0s 4ms/step - loss: 1.5768 - accuracy: 0.7769\n"
          ],
          "name": "stdout"
        },
        {
          "output_type": "execute_result",
          "data": {
            "text/plain": [
              "[1.5768121480941772, 0.7769367694854736]"
            ]
          },
          "metadata": {
            "tags": []
          },
          "execution_count": 29
        }
      ]
    }
  ]
}